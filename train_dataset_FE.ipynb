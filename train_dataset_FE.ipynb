{
 "cells": [
  {
   "cell_type": "code",
   "execution_count": 26,
   "metadata": {},
   "outputs": [],
   "source": [
    "#Import needed packages\n",
    "import pandas as pd\n",
    "import numpy as np\n",
    "%matplotlib inline\n",
    "import matplotlib.pyplot as plt\n",
    "from sklearn.linear_model import LinearRegression\n",
    "import math \n",
    "import random"
   ]
  },
  {
   "cell_type": "code",
   "execution_count": 27,
   "metadata": {},
   "outputs": [],
   "source": [
    "#Read in CSV and drop the ID column\n",
    "train = pd.read_csv('train.csv')\n",
    "train.drop('Id', axis = 1, inplace = True)"
   ]
  },
  {
   "cell_type": "code",
   "execution_count": 28,
   "metadata": {},
   "outputs": [],
   "source": [
    "#Creating new features\n",
    "#Season: combining the year and season to know which season and year the house was sold in \n",
    "#newHouse: to see if the house was sold the same year as it was purchased\n",
    "#remodeled: to see if the house was remodeled before it was sold the same year as it was purchased\n",
    "#randInit: generating a column of random numbers to filter on later\n",
    "train['remodeled'] = [1 if (train['YearBuilt'].iloc[i] == (train['YearRemodAdd'].iloc[i])) else 0 for i in range(0,1460)]\n",
    "train['newHouse'] = [1 if (train['YearBuilt'].iloc[i] == (train['YrSold'].iloc[i])) else 0 for i in range(0,1460)]\n",
    "arr = []\n",
    "for i in range(0,1460):\n",
    "    if train['MoSold'].iloc[i] in [12, 1, 2]: \n",
    "        arr.append('Spring' + \"-\" + str(train['YrSold'].iloc[i]))\n",
    "    elif train['MoSold'].iloc[i] in [3, 4, 5]:\n",
    "        arr.append('Summer' + \"-\" + str(train['YrSold'].iloc[i]))\n",
    "    elif train['MoSold'].iloc[i] in [3, 4, 5]: \n",
    "        arr.append('Fall' + \"-\" + str(train['YrSold'].iloc[i]))\n",
    "    else:\n",
    "        arr.append('Winter' + \"-\" + str(train['YrSold'].iloc[i]))\n",
    "train['season'] = arr\n",
    "random.seed(23)\n",
    "randInit = np.random.choice(np.arange(0,10000), size=1460)\n",
    "randCol = pd.DataFrame(randInit)\n",
    "randCol.columns = ['randInit']\n",
    "train['randInit'] = randCol['randInit']"
   ]
  },
  {
   "cell_type": "code",
   "execution_count": 29,
   "metadata": {},
   "outputs": [],
   "source": [
    "#Drop MiscFeature and PoolQC as there were too many nulls\n",
    "train = train.drop(['MiscFeature', 'PoolQC'], axis = 1)"
   ]
  },
  {
   "cell_type": "code",
   "execution_count": 30,
   "metadata": {},
   "outputs": [],
   "source": [
    "#Masonry data was missing. Replace with 0 and None.\n",
    "train['MasVnrType'].fillna(value = 'None', inplace = True)\n",
    "train['MasVnrArea'].replace(np.nan, 0, inplace = True)\n",
    "\n",
    "#Changing some of the columns to ordinal values\n",
    "mapping = {'Gtl': 0, 'Mod': 1, 'Sev': 2}\n",
    "train.replace({'LandSlope' : mapping}, inplace = True)\n",
    "mapping = {'Reg': 0, 'IR1': 1, 'IR2': 2, 'IR3': 3}\n",
    "train.replace({'LotShape' : mapping}, inplace = True)\n",
    "mapping = {'Grvl': 0, 'Pave': 1}\n",
    "train.replace({'Street' : mapping}, inplace = True)\n",
    "\n",
    "#Alley and Basements have the string NA, which is not missing. Alley and other variables have NA on purpose.\n",
    "#It needs to be convert to string. All basement variables were consistent.\n",
    "train.loc[train.Alley.isnull(), 'Alley'] = 'NoAlley'\n",
    "train.loc[train.BsmtCond.isnull(), 'BsmtCond'] = 'NoBasement'\n",
    "train.loc[train.BsmtExposure.isnull(), 'BsmtExposure'] = 'NoBasement'\n",
    "train.loc[train.BsmtFinType1.isnull(), 'BsmtFinType1'] = 'NoBasement'\n",
    "train.loc[train.BsmtFinType2.isnull(), 'BsmtFinType2'] = 'NoBasement'\n",
    "train.loc[train.BsmtQual.isnull(), 'BsmtQual'] = 'NoBasement'\n",
    "train['Fence'].replace(np.nan, 'NoFence', inplace=True)\n",
    "train['FireplaceQu'].replace(np.nan, 'NoFireplace', inplace=True)\n",
    "train['GarageCond'].replace(np.nan, 'NoGarage', inplace=True)\n",
    "train['GarageFinish'].replace(np.nan, 'NoGarage', inplace=True)\n",
    "train['GarageQual'].replace(np.nan, 'NoGarage', inplace=True)\n",
    "train['GarageType'].replace(np.nan, 'NoGarage', inplace=True)\n",
    "\n",
    "#Central Air changed to 1 or 0.\n",
    "centralair = {'N': 0,'Y': 1}\n",
    "train.CentralAir = [centralair[i] for i in train.CentralAir]\n",
    "\n",
    "#Further missing values\n",
    "train['randInit'].replace(np.nan, '2138', inplace=True)\n",
    "train['Electrical'].replace(np.nan, 'SBrkr', inplace=True)"
   ]
  },
  {
   "cell_type": "code",
   "execution_count": 31,
   "metadata": {},
   "outputs": [],
   "source": [
    "#Changing the nulls to imputed values\n",
    "#Using Lot Area to fill in values for Lot Frontage.\n",
    "#Adding together all SF columns to make a total SF column\n",
    "train['GarageYrBlt'].replace(np.nan, train['GarageYrBlt'].mean(), inplace = True)\n",
    "train['areaBin'] = pd.cut(train.LotArea, bins = 10).astype(str)\n",
    "X = train.groupby('areaBin')[['LotFrontage']].median()\n",
    "X.reset_index(inplace=True)\n",
    "X['areaBin'] = X['areaBin'].astype(str)\n",
    "train['LotFrontage'] = [train.LotFrontage.iloc[i] if not np.isnan(train.LotFrontage.iloc[i])\n",
    "          else X[X.areaBin == train.iloc[i]['areaBin']]['LotFrontage'].iloc[0] for i in range(len(train))]\n",
    "\n",
    "train['TotalSF'] = (train['TotalBsmtSF'] + train['1stFlrSF'] + train['2ndFlrSF'] + train['WoodDeckSF'] + \n",
    "                train['OpenPorchSF'] + train['EnclosedPorch'] + train['3SsnPorch'] + train['ScreenPorch'] +\n",
    "                train['GarageArea'])\n",
    "train[\"LotFrontage\"] = train[\"LotFrontage\"].replace(np.nan, 106)"
   ]
  },
  {
   "cell_type": "code",
   "execution_count": 32,
   "metadata": {},
   "outputs": [],
   "source": [
    "#Write to CSV\n",
    "train.to_csv('train_updated.csv', index = 0)"
   ]
  },
  {
   "cell_type": "code",
   "execution_count": null,
   "metadata": {},
   "outputs": [],
   "source": []
  }
 ],
 "metadata": {
  "kernelspec": {
   "display_name": "Python 3",
   "language": "python",
   "name": "python3"
  },
  "language_info": {
   "codemirror_mode": {
    "name": "ipython",
    "version": 3
   },
   "file_extension": ".py",
   "mimetype": "text/x-python",
   "name": "python",
   "nbconvert_exporter": "python",
   "pygments_lexer": "ipython3",
   "version": "3.7.1"
  }
 },
 "nbformat": 4,
 "nbformat_minor": 2
}
