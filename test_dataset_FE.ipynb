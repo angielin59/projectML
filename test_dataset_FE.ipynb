{
 "cells": [
  {
   "cell_type": "code",
   "execution_count": 1,
   "metadata": {},
   "outputs": [],
   "source": [
    "#Import needed packages\n",
    "import pandas as pd\n",
    "import numpy as np\n",
    "%matplotlib inline\n",
    "import matplotlib.pyplot as plt\n",
    "from sklearn.linear_model import LinearRegression\n",
    "import math "
   ]
  },
  {
   "cell_type": "code",
   "execution_count": 2,
   "metadata": {},
   "outputs": [],
   "source": [
    "#Read in CSV and drop the ID column\n",
    "test = pd.read_csv('test.csv')\n",
    "test.drop('Id', axis = 1, inplace = True)"
   ]
  },
  {
   "cell_type": "code",
   "execution_count": 3,
   "metadata": {},
   "outputs": [],
   "source": [
    "#Creating new features\n",
    "#Season: combining the year and season to know which season and year the house was sold in \n",
    "#newHouse: to see if the house was sold the same year as it was purchased\n",
    "#remodeled: to see if the house was remodeled before it was sold the same year as it was purchased\n",
    "#randInit: generating a column of random numbers to filter on later\n",
    "\n",
    "test['remodeled'] = [1 if (test['YearBuilt'].iloc[i] == (test['YearRemodAdd'].iloc[i])) else 0 for i in range(0,1459)]\n",
    "test['newHouse'] = [1 if (test['YearBuilt'].iloc[i] == (test['YrSold'].iloc[i])) else 0 for i in range(0,1459)]\n",
    "arr = []\n",
    "for i in range(0,1459):\n",
    "    if test['MoSold'].iloc[i] in [12, 1, 2]: \n",
    "        arr.append('Spring' + \"-\" + str(test['YrSold'].iloc[i]))\n",
    "    elif test['MoSold'].iloc[i] in [3, 4, 5]:\n",
    "        arr.append('Summer' + \"-\" + str(test['YrSold'].iloc[i]))\n",
    "    elif test['MoSold'].iloc[i] in [3, 4, 5]: \n",
    "        arr.append('Fall' + \"-\" + str(test['YrSold'].iloc[i]))\n",
    "    else:\n",
    "        arr.append('Winter' + \"-\" + str(test['YrSold'].iloc[i]))\n",
    "test['season'] = arr\n",
    "randInit = np.random.choice(np.arange(0,10000), size=1459)\n",
    "randCol = pd.DataFrame(randInit)\n",
    "randCol.columns = ['randInit']\n",
    "test['randInit'] = randCol['randInit']"
   ]
  },
  {
   "cell_type": "code",
   "execution_count": 4,
   "metadata": {},
   "outputs": [],
   "source": [
    "#Drop MiscFeature and PoolQC as there were too many nulls\n",
    "test = test.drop(['MiscFeature', 'PoolQC'], axis = 1)"
   ]
  },
  {
   "cell_type": "code",
   "execution_count": 5,
   "metadata": {},
   "outputs": [],
   "source": [
    "#Specific nulls to the test dataset \n",
    "test.loc[test.BsmtFullBath.isnull(), 'BsmtFullBath'] = int(0)\n",
    "test.BsmtFullBath = test.BsmtFullBath.astype(int)\n",
    "test.loc[test.BsmtHalfBath.isnull(), 'BsmtHalfBath'] = int(0)\n",
    "test.BsmtHalfBath = test.BsmtHalfBath.astype(int)\n",
    "test.loc[test.BsmtFinSF1.isnull(), 'BsmtFinSF1'] = int(0)\n",
    "test.BsmtFinSF1 = test.BsmtFinSF1.astype(int)\n",
    "test.loc[test.BsmtFinSF2.isnull(), 'BsmtFinSF2'] = int(0)\n",
    "test.BsmtFinSF2 = test.BsmtFinSF2.astype(int)\n",
    "test.loc[test.BsmtUnfSF.isnull(), 'BsmtUnfSF'] = int(0)\n",
    "test.BsmtUnfSF = test.BsmtUnfSF.astype(int)\n",
    "test.loc[test.TotalBsmtSF.isnull(), 'TotalBsmtSF'] = int(0)\n",
    "test.TotalBsmtSF = test.TotalBsmtSF.astype(int)\n",
    "test.loc[test.SaleType.isnull(), 'SaleType'] = 'WD'\n",
    "test.loc[test.Exterior1st.isnull(), 'Exterior1st'] = \"BrkFace\"\n",
    "test.loc[test.Exterior2nd.isnull(), 'Exterior2nd'] = \"BrkFace\"\n",
    "test.loc[test.KitchenQual.isnull(), 'KitchenQual'] = \"TA\"\n",
    "test.loc[test.GarageArea.isnull(), \"GarageArea\"] = int(0)\n",
    "test.GarageArea = test.GarageArea.astype(int)\n",
    "test.loc[test.GarageCars.isnull(), \"GarageCars\"] = int(0)\n",
    "test.GarageCars = test.GarageCars.astype(int)\n",
    "test.loc[test.Utilities.isnull(), 'Utilities'] = 'AllPub'\n",
    "test.loc[test.Functional.isnull(), 'Functional'] = 'Mod'\n",
    "test.loc[test.MSZoning.isnull(), 'MSZoning'] = 'C (all)'"
   ]
  },
  {
   "cell_type": "code",
   "execution_count": 6,
   "metadata": {},
   "outputs": [],
   "source": [
    "#Masonry data was missing. Replace with 0 and None.\n",
    "test['MasVnrType'].fillna(value = 'None', inplace = True)\n",
    "test['MasVnrArea'].replace(np.nan, 0, inplace = True)\n",
    "\n",
    "#Changing some of the columns to ordinal values\n",
    "mapping = {'Gtl': 0, 'Mod': 1, 'Sev': 2}\n",
    "test.replace({'LandSlope' : mapping}, inplace = True)\n",
    "mapping = {'Reg': 0, 'IR1': 1, 'IR2': 2, 'IR3': 3}\n",
    "test.replace({'LotShape' : mapping}, inplace = True)\n",
    "mapping = {'Grvl': 0, 'Pave': 1}\n",
    "test.replace({'Street' : mapping}, inplace = True)\n",
    "\n",
    "#Alley and Basements have the string NA, which is not missing. Alley and other variables have NA on purpose.\n",
    "#It needs to be convert to string. All basement variables were consistent.\n",
    "test.loc[test.Alley.isnull(), 'Alley'] = 'NoAlley'\n",
    "test.loc[test.BsmtCond.isnull(), 'BsmtCond'] = 'NoBasement'\n",
    "test.loc[test.BsmtExposure.isnull(), 'BsmtExposure'] = 'NoBasement'\n",
    "test.loc[test.BsmtFinType1.isnull(), 'BsmtFinType1'] = 'NoBasement'\n",
    "test.loc[test.BsmtFinType2.isnull(), 'BsmtFinType2'] = 'NoBasement'\n",
    "test.loc[test.BsmtQual.isnull(), 'BsmtQual'] = 'NoBasement'\n",
    "test['Fence'].replace(np.nan, 'NoFence', inplace=True)\n",
    "test['FireplaceQu'].replace(np.nan, 'NoFireplace', inplace=True)\n",
    "test['GarageCond'].replace(np.nan, 'NoGarage', inplace=True)\n",
    "test['GarageFinish'].replace(np.nan, 'NoGarage', inplace=True)\n",
    "test['GarageQual'].replace(np.nan, 'NoGarage', inplace=True)\n",
    "test['GarageType'].replace(np.nan, 'NoGarage', inplace=True)\n",
    "\n",
    "#Central Air changed to 1 or 0.\n",
    "centralair = {'N': 0,'Y': 1}\n",
    "test.CentralAir = [centralair[i] for i in test.CentralAir]\n",
    "\n",
    "#Further missing values\n",
    "test['randInit'].replace(np.nan, '2138', inplace=True)\n",
    "test['Electrical'].replace(np.nan, 'SBrkr', inplace=True)"
   ]
  },
  {
   "cell_type": "code",
   "execution_count": 7,
   "metadata": {},
   "outputs": [],
   "source": [
    "#Changing the nulls to imputed values\n",
    "#Using Lot Area to fill in values for Lot Frontage.\n",
    "#Adding together all SF columns to make a total SF column\n",
    "test['GarageYrBlt'].replace(np.nan, test['GarageYrBlt'].mean(), inplace = True)\n",
    "test['areaBin'] = pd.cut(test.LotArea, bins = 10).astype(str)\n",
    "X = test.groupby('areaBin')[['LotFrontage']].median()\n",
    "X.reset_index(inplace=True)\n",
    "X['areaBin'] = X['areaBin'].astype(str)\n",
    "test['LotFrontage'] = [test.LotFrontage.iloc[i] if not np.isnan(test.LotFrontage.iloc[i])\n",
    "          else X[X.areaBin == test.iloc[i]['areaBin']]['LotFrontage'].iloc[0] for i in range(len(test))]\n",
    "\n",
    "test['TotalSF'] = (test['TotalBsmtSF'] + test['1stFlrSF'] + test['2ndFlrSF'] + test['WoodDeckSF'] + \n",
    "                test['OpenPorchSF'] + test['EnclosedPorch'] + test['3SsnPorch'] + test['ScreenPorch'] +\n",
    "                test['GarageArea'])\n",
    "test[\"LotFrontage\"] = test[\"LotFrontage\"].replace(np.nan, 106)"
   ]
  },
  {
   "cell_type": "code",
   "execution_count": 8,
   "metadata": {},
   "outputs": [],
   "source": [
    "#train.to_csv('no_dums.csv', index = False)\n",
    "test.to_csv('test_updated.csv', index = False)"
   ]
  },
  {
   "cell_type": "code",
   "execution_count": null,
   "metadata": {},
   "outputs": [],
   "source": []
  }
 ],
 "metadata": {
  "kernelspec": {
   "display_name": "Python 3",
   "language": "python",
   "name": "python3"
  },
  "language_info": {
   "codemirror_mode": {
    "name": "ipython",
    "version": 3
   },
   "file_extension": ".py",
   "mimetype": "text/x-python",
   "name": "python",
   "nbconvert_exporter": "python",
   "pygments_lexer": "ipython3",
   "version": "3.7.1"
  }
 },
 "nbformat": 4,
 "nbformat_minor": 2
}
